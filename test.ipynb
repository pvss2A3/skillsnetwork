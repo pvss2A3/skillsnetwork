{
    "cells": [
        {
            "metadata": {
                "collapsed": true
            },
            "cell_type": "markdown",
            "source": "This is a sample markdown"
        },
        {
            "metadata": {},
            "cell_type": "code",
            "source": "print('Hello, World!')",
            "execution_count": 2,
            "outputs": [
                {
                    "output_type": "stream",
                    "text": "Hello, World!\n",
                    "name": "stdout"
                }
            ]
        },
        {
            "metadata": {},
            "cell_type": "code",
            "source": "text = \"X-DSPAM-Confidence:    0.8475\";\npos = text.find(\"0\")\n#print(pos)\nsstrp = text[pos:]\nprint(float(sstrp))\n#print(type(sstrp))\n",
            "execution_count": 3,
            "outputs": [
                {
                    "output_type": "stream",
                    "text": "0.8475\n",
                    "name": "stdout"
                }
            ]
        },
        {
            "metadata": {},
            "cell_type": "code",
            "source": "",
            "execution_count": null,
            "outputs": []
        }
    ],
    "metadata": {
        "kernelspec": {
            "name": "python3",
            "display_name": "Python 3.6",
            "language": "python"
        },
        "language_info": {
            "name": "python",
            "version": "3.6.9",
            "mimetype": "text/x-python",
            "codemirror_mode": {
                "name": "ipython",
                "version": 3
            },
            "pygments_lexer": "ipython3",
            "nbconvert_exporter": "python",
            "file_extension": ".py"
        }
    },
    "nbformat": 4,
    "nbformat_minor": 1
}